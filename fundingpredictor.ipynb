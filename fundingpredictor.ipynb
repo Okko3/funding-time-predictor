{
 "cells": [
  {
   "cell_type": "code",
   "execution_count": 1,
   "id": "c75700b5-871d-498c-8dc6-ad8be91e7d0e",
   "metadata": {
    "tags": []
   },
   "outputs": [],
   "source": [
    "# Cell 1: Import Necessary Libraries\n",
    "import pandas as pd\n",
    "import numpy as np\n",
    "from datetime import datetime\n",
    "from sklearn.model_selection import train_test_split\n",
    "from sklearn.ensemble import RandomForestRegressor\n",
    "from sklearn.neural_network import MLPRegressor\n",
    "from sklearn.preprocessing import StandardScaler, OneHotEncoder, PolynomialFeatures\n",
    "from sklearn.compose import ColumnTransformer\n",
    "from sklearn.pipeline import Pipeline\n",
    "from sklearn.metrics import mean_squared_error, r2_score, mean_absolute_error\n",
    "from sklearn.linear_model import LinearRegression"
   ]
  },
  {
   "cell_type": "code",
   "execution_count": 2,
   "id": "4a08f381-c3c3-4218-a557-f95a8144b0ba",
   "metadata": {
    "tags": []
   },
   "outputs": [],
   "source": [
    "# Cell 2: Load and Preprocess the Data\n",
    "\n",
    "df = pd.read_csv('kiva_loans.csv')\n",
    "\n",
    "# Convert time columns to datetime\n",
    "time_columns = ['posted_time', 'funded_time']\n",
    "for col in time_columns:\n",
    "    df[col] = pd.to_datetime(df[col])\n",
    "\n",
    "# Create the label (funding duration in hours)\n",
    "df['funding_duration'] = (df['funded_time'] - df['posted_time']).dt.total_seconds() / 3600\n",
    "\n",
    "# Extract year and month from posted_time\n",
    "df['posted_year'] = df['posted_time'].dt.year\n",
    "df['posted_month'] = df['posted_time'].dt.month\n",
    "\n",
    "# Process borrower_genders into two binary features\n",
    "def process_borrower_genders(gender_string):\n",
    "    if pd.isna(gender_string):\n",
    "        return 0, 0  # Default to no majority and single person\n",
    "    genders = gender_string.split(',')\n",
    "    num_men = genders.count('male')\n",
    "    num_women = genders.count('female')\n",
    "    multiple_people = 1 if len(genders) > 1 else 0\n",
    "    majority_men_or_women = 1 if num_men > num_women else 0  # Choose majority, default to women if equal\n",
    "    return multiple_people, majority_men_or_women\n",
    "\n",
    "df['multiple_people'], df['majority_men_or_women'] = zip(*df['borrower_genders'].apply(process_borrower_genders))\n",
    "\n",
    "# Prepare features\n",
    "numeric_features = ['funded_amount', 'term_in_months']\n",
    "categorical_features = ['activity', 'sector', 'country', 'partner_id', \n",
    "                        'repayment_interval', 'posted_year', 'posted_month', \n",
    "                        'multiple_people', 'majority_men_or_women']\n",
    "\n",
    "# Combine all features\n",
    "features = numeric_features + categorical_features\n",
    "\n",
    "# drop rows with missing values in features or label\n",
    "columns_to_check = features + ['funding_duration']\n",
    "df = df.dropna(subset=columns_to_check)\n",
    "\n",
    "# Create X (features) and y (target)\n",
    "X = df[features]\n",
    "y = df['funding_duration']\n",
    "\n",
    "# Split the data into training and testing sets\n",
    "X_train, X_test, y_train, y_test = train_test_split(X, y, test_size=0.2, random_state=42)"
   ]
  },
  {
   "cell_type": "code",
   "execution_count": 3,
   "id": "33888dd9-687c-4c80-a5d7-75abb324ddf3",
   "metadata": {
    "tags": []
   },
   "outputs": [],
   "source": [
    "# Cell 3: Define the Preprocessing Pipeline\n",
    "\n",
    "# Create preprocessing steps\n",
    "numeric_transformer = StandardScaler()\n",
    "categorical_transformer = OneHotEncoder(handle_unknown='ignore')\n",
    "\n",
    "preprocessor = ColumnTransformer(\n",
    "    transformers=[\n",
    "        ('num', numeric_transformer, numeric_features),\n",
    "        ('cat', categorical_transformer, categorical_features)\n",
    "    ])"
   ]
  },
  {
   "cell_type": "code",
   "execution_count": 7,
   "id": "388b7c44-2b46-4034-8394-93257d99ebc5",
   "metadata": {
    "tags": []
   },
   "outputs": [
    {
     "name": "stdout",
     "output_type": "stream",
     "text": [
      "Training Random Forest Regressor...\n",
      "\n",
      "Random Forest Regressor training completed.\n",
      "\n",
      "Random Forest Regressor Test Performance:\n",
      "Root Mean Squared Error: 180.87\n",
      "Mean Absolute Error: 121.50\n",
      "R-squared Score: 0.58\n",
      "\n",
      "Random Forest Regressor Training Performance:\n",
      "Root Mean Squared Error: 102.62\n",
      "Mean Absolute Error: 64.22\n",
      "R-squared Score: 0.86\n"
     ]
    }
   ],
   "source": [
    "# Cell 4: Train and Evaluate the Random Forest Regressor\n",
    "\n",
    "# Define the Random Forest Regressor Pipeline\n",
    "rf_model = Pipeline([\n",
    "    ('preprocessor', preprocessor),\n",
    "    ('regressor', RandomForestRegressor(\n",
    "        n_estimators=10,       \n",
    "        random_state=42,\n",
    "    ))\n",
    "])\n",
    "\n",
    "# Train the Random Forest Regressor\n",
    "print(\"Training Random Forest Regressor...\")\n",
    "rf_model.fit(X_train, y_train)\n",
    "print(\"\\nRandom Forest Regressor training completed.\")\n",
    "\n",
    "# Make Predictions with Random Forest on Test Data\n",
    "y_pred_rf = rf_model.predict(X_test)\n",
    "\n",
    "# Evaluate the Random Forest Regressor on Test Data\n",
    "mse_rf = mean_squared_error(y_test, y_pred_rf)\n",
    "rmse_rf = np.sqrt(mse_rf)\n",
    "r2_rf = r2_score(y_test, y_pred_rf)\n",
    "mae_rf = mean_absolute_error(y_test, y_pred_rf)\n",
    "\n",
    "# Make Predictions with Random Forest on Training Data\n",
    "y_train_pred_rf = rf_model.predict(X_train)\n",
    "\n",
    "# Evaluate the Random Forest Regressor on Training Data\n",
    "mse_rf_train = mean_squared_error(y_train, y_train_pred_rf)\n",
    "rmse_rf_train = np.sqrt(mse_rf_train)\n",
    "r2_rf_train = r2_score(y_train, y_train_pred_rf)\n",
    "mae_rf_train = mean_absolute_error(y_train, y_train_pred_rf)\n",
    "\n",
    "# Output Test Performance Results\n",
    "print(\"\\nRandom Forest Regressor Test Performance:\")\n",
    "print(f\"Root Mean Squared Error: {rmse_rf:.2f}\")\n",
    "print(f\"Mean Absolute Error: {mae_rf:.2f}\")\n",
    "print(f\"R-squared Score: {r2_rf:.2f}\")\n",
    "\n",
    "# Output Training Performance Results\n",
    "print(\"\\nRandom Forest Regressor Training Performance:\")\n",
    "print(f\"Root Mean Squared Error: {rmse_rf_train:.2f}\")\n",
    "print(f\"Mean Absolute Error: {mae_rf_train:.2f}\")\n",
    "print(f\"R-squared Score: {r2_rf_train:.2f}\")\n"
   ]
  },
  {
   "cell_type": "code",
   "execution_count": 6,
   "id": "0cc895c1-d9dd-4b7e-bf31-89e790d16094",
   "metadata": {
    "tags": []
   },
   "outputs": [
    {
     "name": "stdout",
     "output_type": "stream",
     "text": [
      "Training MLP Regressor...\n",
      "\n",
      "MLP Regressor training completed.\n",
      "\n",
      "MLP Regressor Test Performance:\n",
      "Root Mean Squared Error: 166.00\n",
      "Mean Absolute Error: 115.25\n",
      "R-squared Score: 0.65\n",
      "\n",
      "MLP Regressor Training Performance:\n",
      "Root Mean Squared Error: 156.63\n",
      "Mean Absolute Error: 108.77\n",
      "R-squared Score: 0.68\n"
     ]
    }
   ],
   "source": [
    "# Cell 5: Train and Evaluate the MLP Regressor\n",
    "\n",
    "# Define the MLP Regressor Pipeline\n",
    "mlp_model = Pipeline([\n",
    "    ('preprocessor', preprocessor),\n",
    "    ('regressor', MLPRegressor(\n",
    "        hidden_layer_sizes=(256, 128, 64, 32),\n",
    "        activation='relu',             \n",
    "        alpha=0.001,\n",
    "        solver='adam', \n",
    "        random_state=13,\n",
    "        max_iter=1000,\n",
    "        early_stopping=True,    \n",
    "        validation_fraction=0.1\n",
    "    ))\n",
    "])\n",
    "\n",
    "# Train the MLP Regressor\n",
    "print(\"Training MLP Regressor...\")\n",
    "mlp_model.fit(X_train, y_train)\n",
    "print(\"\\nMLP Regressor training completed.\")\n",
    "\n",
    "# Make Predictions with MLP Regressor on Test Data\n",
    "y_pred_mlp = mlp_model.predict(X_test)\n",
    "\n",
    "# Evaluate the MLP Regressor on Test Data\n",
    "mse_mlp = mean_squared_error(y_test, y_pred_mlp)\n",
    "rmse_mlp = np.sqrt(mse_mlp)\n",
    "r2_mlp = r2_score(y_test, y_pred_mlp)\n",
    "mae_mlp = mean_absolute_error(y_test, y_pred_mlp)\n",
    "\n",
    "# Make Predictions with MLP Regressor on Training Data\n",
    "y_train_pred_mlp = mlp_model.predict(X_train)\n",
    "\n",
    "# Evaluate the MLP Regressor on Training Data\n",
    "mse_mlp_train = mean_squared_error(y_train, y_train_pred_mlp)\n",
    "rmse_mlp_train = np.sqrt(mse_mlp_train)\n",
    "r2_mlp_train = r2_score(y_train, y_train_pred_mlp)\n",
    "mae_mlp_train = mean_absolute_error(y_train, y_train_pred_mlp)\n",
    "\n",
    "# Output Test Performance Results\n",
    "print(\"\\nMLP Regressor Test Performance:\")\n",
    "print(f\"Root Mean Squared Error: {rmse_mlp:.2f}\")\n",
    "print(f\"Mean Absolute Error: {mae_mlp:.2f}\")\n",
    "print(f\"R-squared Score: {r2_mlp:.2f}\")\n",
    "\n",
    "# Output Training Performance Results\n",
    "print(\"\\nMLP Regressor Training Performance:\")\n",
    "print(f\"Root Mean Squared Error: {rmse_mlp_train:.2f}\")\n",
    "print(f\"Mean Absolute Error: {mae_mlp_train:.2f}\")\n",
    "print(f\"R-squared Score: {r2_mlp_train:.2f}\")\n"
   ]
  },
  {
   "cell_type": "code",
   "execution_count": 9,
   "id": "14dfec5f-7b65-4c44-ba9e-58c057870e51",
   "metadata": {
    "tags": []
   },
   "outputs": [
    {
     "name": "stdout",
     "output_type": "stream",
     "text": [
      "Mean Funding Duration (Training Set): 336.07 hours\n",
      "Mean Absolute Error (Baseline - Mean Prediction): 233.27 hours\n"
     ]
    }
   ],
   "source": [
    "# Assuming you have already executed Cell 2 and have X_train, X_test, y_train, y_test defined\n",
    "\n",
    "# 1. Compute the mean of the training target values\n",
    "mean_funding_duration = y_train.mean()\n",
    "\n",
    "# 2. Print the mean funding duration\n",
    "print(f\"Mean Funding Duration (Training Set): {mean_funding_duration:.2f} hours\")\n",
    "\n",
    "# 3. Create predictions by assigning the mean to all test instances\n",
    "y_pred_mean = [mean_funding_duration] * len(y_test)\n",
    "\n",
    "# 4. Calculate the Mean Absolute Error (MAE)\n",
    "mae = mean_absolute_error(y_test, y_pred_mean)\n",
    "\n",
    "# 5. Print the MAE\n",
    "print(f\"Mean Absolute Error (Baseline - Mean Prediction): {mae:.2f} hours\")"
   ]
  },
  {
   "cell_type": "code",
   "execution_count": null,
   "id": "57d4205a-1731-4bb4-870b-2839e0b89311",
   "metadata": {},
   "outputs": [],
   "source": []
  }
 ],
 "metadata": {
  "kernelspec": {
   "display_name": "Python 3",
   "language": "python",
   "name": "python3"
  },
  "language_info": {
   "codemirror_mode": {
    "name": "ipython",
    "version": 3
   },
   "file_extension": ".py",
   "mimetype": "text/x-python",
   "name": "python",
   "nbconvert_exporter": "python",
   "pygments_lexer": "ipython3",
   "version": "3.10.12"
  }
 },
 "nbformat": 4,
 "nbformat_minor": 5
}
